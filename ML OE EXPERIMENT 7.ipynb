{
 "cells": [
  {
   "cell_type": "code",
   "execution_count": 21,
   "id": "233872ea",
   "metadata": {},
   "outputs": [],
   "source": [
    "from sklearn.linear_model import LogisticRegression\n",
    "from sklearn.datasets import load_digits\n",
    "from sklearn import preprocessing\n",
    "from sklearn.linear_model import SGDRegressor\n",
    "from sklearn.model_selection import train_test_split\n",
    "\n",
    "import sklearn\n",
    "import pandas as pd\n",
    "digits = load_digits()"
   ]
  },
  {
   "cell_type": "code",
   "execution_count": 22,
   "id": "674ca992",
   "metadata": {},
   "outputs": [],
   "source": [
    "X=pd.DataFrame(load_digits().data, \n",
    "                       columns=load_digits().feature_names)\n",
    "\n",
    "y = pd.DataFrame(load_digits().target)"
   ]
  },
  {
   "cell_type": "code",
   "execution_count": 23,
   "id": "7ddc3ed1",
   "metadata": {},
   "outputs": [
    {
     "data": {
      "text/plain": [
       "((1797, 64), (1797, 1))"
      ]
     },
     "execution_count": 23,
     "metadata": {},
     "output_type": "execute_result"
    }
   ],
   "source": [
    "X.shape, y.shape"
   ]
  },
  {
   "cell_type": "code",
   "execution_count": 24,
   "id": "3d2920af",
   "metadata": {},
   "outputs": [],
   "source": [
    "X_train,X_test,y_train,y_test=train_test_split(X,y,test_size=0.25)"
   ]
  },
  {
   "cell_type": "code",
   "execution_count": 25,
   "id": "9719a263",
   "metadata": {},
   "outputs": [
    {
     "name": "stdout",
     "output_type": "stream",
     "text": [
      "Logistic regression Train Accuracy : 100.0 %\n",
      "\n",
      "Logistic regression Test Accuracy : 95.11111111111111 %\n",
      "-------------------------------------------------------------------------------------------------\n",
      "\n",
      "Classification Report : \n",
      "               precision    recall  f1-score   support\n",
      "\n",
      "           0       1.00      1.00      1.00        39\n",
      "           1       0.91      0.98      0.94        52\n",
      "           2       0.97      1.00      0.99        36\n",
      "           3       0.98      0.92      0.95        49\n",
      "           4       0.93      0.95      0.94        42\n",
      "           5       0.88      0.96      0.92        51\n",
      "           6       1.00      0.98      0.99        50\n",
      "           7       0.98      0.96      0.97        48\n",
      "           8       0.92      0.85      0.88        40\n",
      "           9       0.97      0.91      0.94        43\n",
      "\n",
      "    accuracy                           0.95       450\n",
      "   macro avg       0.95      0.95      0.95       450\n",
      "weighted avg       0.95      0.95      0.95       450\n",
      "\n",
      "-------------------------------------------------------------------------------------------------\n",
      "\n",
      " Confusion Matrix :- \n",
      "[[39  0  0  0  0  0  0  0  0  0]\n",
      " [ 0 51  0  0  1  0  0  0  0  0]\n",
      " [ 0  0 36  0  0  0  0  0  0  0]\n",
      " [ 0  0  0 45  0  3  0  0  0  1]\n",
      " [ 0  2  0  0 40  0  0  0  0  0]\n",
      " [ 0  0  0  1  0 49  0  1  0  0]\n",
      " [ 0  0  0  0  0  0 49  0  1  0]\n",
      " [ 0  0  0  0  2  0  0 46  0  0]\n",
      " [ 0  2  1  0  0  3  0  0 34  0]\n",
      " [ 0  1  0  0  0  1  0  0  2 39]]\n"
     ]
    },
    {
     "name": "stderr",
     "output_type": "stream",
     "text": [
      "C:\\Users\\GV\\anaconda3\\lib\\site-packages\\sklearn\\utils\\validation.py:63: DataConversionWarning: A column-vector y was passed when a 1d array was expected. Please change the shape of y to (n_samples, ), for example using ravel().\n",
      "  return f(*args, **kwargs)\n",
      "C:\\Users\\GV\\anaconda3\\lib\\site-packages\\sklearn\\linear_model\\_logistic.py:763: ConvergenceWarning: lbfgs failed to converge (status=1):\n",
      "STOP: TOTAL NO. of ITERATIONS REACHED LIMIT.\n",
      "\n",
      "Increase the number of iterations (max_iter) or scale the data as shown in:\n",
      "    https://scikit-learn.org/stable/modules/preprocessing.html\n",
      "Please also refer to the documentation for alternative solver options:\n",
      "    https://scikit-learn.org/stable/modules/linear_model.html#logistic-regression\n",
      "  n_iter_i = _check_optimize_result(\n"
     ]
    }
   ],
   "source": [
    "from sklearn.linear_model import LogisticRegression\n",
    "\n",
    "logistic_model = LogisticRegression(multi_class=\"multinomial\", random_state=42)\n",
    "logistic_classifier = logistic_model.fit(X_train, y_train)\n",
    "\n",
    "y_pred_logistic = logistic_model.predict(X_test)\n",
    "print(\"Logistic regression Train Accuracy : {} %\".format(logistic_classifier.score(X_train, \n",
    "                                                                                   y_train)*100))\n",
    "print(\"\\nLogistic regression Test Accuracy : {} %\".format(sklearn.metrics.accuracy_score(y_test, \n",
    "                                                                                 y_pred_logistic)*100))\n",
    "print(\"-------------------------------------------------------------------------------------------------\")\n",
    "print(\"\\nClassification Report : \\n {}\".format(sklearn.metrics.classification_report(y_test, \n",
    "                                                                                     y_pred_logistic)))\n",
    "print(\"-------------------------------------------------------------------------------------------------\")\n",
    "print(\"\\n Confusion Matrix :- \\n{}\".format(sklearn.metrics.confusion_matrix(y_test, \n",
    "                                                                            y_pred_logistic)))"
   ]
  },
  {
   "cell_type": "code",
   "execution_count": 26,
   "id": "df7bd81b",
   "metadata": {
    "scrolled": false
   },
   "outputs": [
    {
     "name": "stdout",
     "output_type": "stream",
     "text": [
      "SGD CLASSIFIEER Train Accuracy : 100.0 %\n",
      "\n",
      "SGD CLASSIFIEER Test Accuracy : 92.44444444444444 %\n",
      "-------------------------------------------------------------------------------------------------\n",
      "\n",
      "Classification Report : \n",
      "               precision    recall  f1-score   support\n",
      "\n",
      "           0       1.00      1.00      1.00        39\n",
      "           1       0.91      0.94      0.92        52\n",
      "           2       1.00      0.89      0.94        36\n",
      "           3       0.88      0.88      0.88        49\n",
      "           4       0.95      0.88      0.91        42\n",
      "           5       0.93      0.98      0.95        51\n",
      "           6       0.98      0.92      0.95        50\n",
      "           7       0.98      0.96      0.97        48\n",
      "           8       0.76      0.88      0.81        40\n",
      "           9       0.91      0.91      0.91        43\n",
      "\n",
      "    accuracy                           0.92       450\n",
      "   macro avg       0.93      0.92      0.92       450\n",
      "weighted avg       0.93      0.92      0.93       450\n",
      "\n",
      "-------------------------------------------------------------------------------------------------\n",
      "\n",
      " Confusion Matrix :- \n",
      "[[39  0  0  0  0  0  0  0  0  0]\n",
      " [ 0 49  0  0  0  0  0  0  3  0]\n",
      " [ 0  0 32  2  0  0  0  0  2  0]\n",
      " [ 0  0  0 43  0  3  0  1  2  0]\n",
      " [ 0  2  0  0 37  0  1  0  0  2]\n",
      " [ 0  0  0  0  0 50  0  0  0  1]\n",
      " [ 0  1  0  0  0  0 46  0  3  0]\n",
      " [ 0  0  0  0  2  0  0 46  0  0]\n",
      " [ 0  2  0  2  0  0  0  0 35  1]\n",
      " [ 0  0  0  2  0  1  0  0  1 39]]\n"
     ]
    },
    {
     "name": "stderr",
     "output_type": "stream",
     "text": [
      "C:\\Users\\GV\\anaconda3\\lib\\site-packages\\sklearn\\utils\\validation.py:63: DataConversionWarning: A column-vector y was passed when a 1d array was expected. Please change the shape of y to (n_samples, ), for example using ravel().\n",
      "  return f(*args, **kwargs)\n"
     ]
    }
   ],
   "source": [
    "import numpy as np\n",
    "from sklearn.linear_model import SGDClassifier\n",
    "from sklearn.preprocessing import StandardScaler\n",
    "from sklearn.pipeline import make_pipeline\n",
    "\n",
    "clf = make_pipeline(StandardScaler(), SGDClassifier(max_iter=1000, tol=1e-3))\n",
    "\n",
    "clf.fit(X_train, y_train)\n",
    "\n",
    "y_pred_sgd = clf.predict(X_test)\n",
    "print(\"SGD CLASSIFIEER Train Accuracy : {} %\".format(logistic_classifier.score(X_train, \n",
    "                                                                                   y_train)*100))\n",
    "\n",
    "print(\"\\nSGD CLASSIFIEER Test Accuracy : {} %\".format(sklearn.metrics.accuracy_score(y_test, \n",
    "                                                                                 y_pred_sgd)*100))\n",
    "\n",
    "print(\"-------------------------------------------------------------------------------------------------\")\n",
    "print(\"\\nClassification Report : \\n {}\".format(sklearn.metrics.classification_report(y_test, \n",
    "                                                                                     y_pred_sgd)))\n",
    "\n",
    "print(\"-------------------------------------------------------------------------------------------------\")\n",
    "print(\"\\n Confusion Matrix :- \\n{}\".format(sklearn.metrics.confusion_matrix(y_test, \n",
    "                                                                            y_pred_sgd)))"
   ]
  }
 ],
 "metadata": {
  "kernelspec": {
   "display_name": "Python 3",
   "language": "python",
   "name": "python3"
  },
  "language_info": {
   "codemirror_mode": {
    "name": "ipython",
    "version": 3
   },
   "file_extension": ".py",
   "mimetype": "text/x-python",
   "name": "python",
   "nbconvert_exporter": "python",
   "pygments_lexer": "ipython3",
   "version": "3.8.11"
  }
 },
 "nbformat": 4,
 "nbformat_minor": 5
}
