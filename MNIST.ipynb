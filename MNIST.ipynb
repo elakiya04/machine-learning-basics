{
  "nbformat": 4,
  "nbformat_minor": 0,
  "metadata": {
    "colab": {
      "name": "MNIST.ipynb",
      "provenance": [],
      "authorship_tag": "ABX9TyOJpYnGWitef0LbGkSbOe1R",
      "include_colab_link": true
    },
    "kernelspec": {
      "name": "python3",
      "display_name": "Python 3"
    },
    "language_info": {
      "name": "python"
    }
  },
  "cells": [
    {
      "cell_type": "markdown",
      "metadata": {
        "id": "view-in-github",
        "colab_type": "text"
      },
      "source": [
        "<a href=\"https://colab.research.google.com/github/elakiya04/machine-learning-basics/blob/main/MNIST.ipynb\" target=\"_parent\"><img src=\"https://colab.research.google.com/assets/colab-badge.svg\" alt=\"Open In Colab\"/></a>"
      ]
    },
    {
      "cell_type": "markdown",
      "metadata": {
        "id": "n36UVzV-hOTf"
      },
      "source": [
        "# MNIST DATASET BINARY CLASSIFICATION"
      ]
    },
    {
      "cell_type": "code",
      "metadata": {
        "id": "3OlxiTZrdOJD"
      },
      "source": [
        "import numpy as np\n",
        "import pandas as pd\n",
        "from sklearn.datasets import load_digits\n",
        "from sklearn.model_selection import train_test_split\n",
        "from sklearn.linear_model import SGDClassifier\n",
        "from sklearn.linear_model import LogisticRegression\n",
        "from sklearn.metrics import mean_squared_error, mean_absolute_error, r2_score, confusion_matrix"
      ],
      "execution_count": 14,
      "outputs": []
    },
    {
      "cell_type": "markdown",
      "metadata": {
        "id": "JgrAcfk0h52n"
      },
      "source": [
        "## TEST TRAIN SPLIT"
      ]
    },
    {
      "cell_type": "code",
      "metadata": {
        "id": "MFXHwE7sdbXX"
      },
      "source": [
        "X=pd.DataFrame(load_digits().data, \n",
        "                       columns=load_digits().feature_names)\n",
        "\n",
        "y = pd.DataFrame(load_digits().target)"
      ],
      "execution_count": 2,
      "outputs": []
    },
    {
      "cell_type": "code",
      "metadata": {
        "colab": {
          "base_uri": "https://localhost:8080/"
        },
        "id": "1Us2au4Edoy_",
        "outputId": "6431b479-41a2-4ce1-93f2-f710a5d3f212"
      },
      "source": [
        "x.shape, y.shape"
      ],
      "execution_count": 6,
      "outputs": [
        {
          "output_type": "execute_result",
          "data": {
            "text/plain": [
              "((1797, 64), (1797,))"
            ]
          },
          "metadata": {},
          "execution_count": 6
        }
      ]
    },
    {
      "cell_type": "code",
      "metadata": {
        "id": "ewPDA91odrsE"
      },
      "source": [
        "x_train,x_test,y_train,y_test=train_test_split(x,y,test_size=0.25)"
      ],
      "execution_count": 8,
      "outputs": []
    },
    {
      "cell_type": "markdown",
      "metadata": {
        "id": "oUExZjxsh9Mv"
      },
      "source": [
        "## LINEAR REGRESSION"
      ]
    },
    {
      "cell_type": "code",
      "metadata": {
        "colab": {
          "base_uri": "https://localhost:8080/"
        },
        "id": "G7VGUtWMfwIO",
        "outputId": "a1cd158a-c592-4cc0-c6e4-58a11ac3cf71"
      },
      "source": [
        "from sklearn.linear_model import LogisticRegression\n",
        "\n",
        "logistic_model = LogisticRegression(multi_class=\"multinomial\", random_state=42)\n",
        "logistic_classifier = logistic_model.fit(X_train, y_train)\n",
        "\n",
        "y_pred_logistic = logistic_model.predict(X_test)\n",
        "MAE=mean_absolute_error(Y_test, y_pred)\n",
        "MSE=mean_squared_error(Y_test, y_pred)\n",
        "RMSE=np.sqrt(MSE)\n",
        "r2=r2_score(Y_test, y_pred)\n",
        "conmat=confusion_matrix(y_test, y_pred_sgd)\n",
        "print(\"Mean Absolute Error=\", MAE)\n",
        "print(\"Mean Squared Error=\", MSE)\n",
        "print(\"Root Mean Squared Error=\", RMSE)\n",
        "print(\"R2 score=\", r2)\n",
        "print(\"CONFUSION MATRIX\")\n",
        "print(conmat)"
      ],
      "execution_count": 15,
      "outputs": [
        {
          "output_type": "stream",
          "name": "stdout",
          "text": [
            "Mean Absolute Error= 0.2733333333333333\n",
            "Mean Squared Error= 1.5133333333333334\n",
            "Root Mean Squared Error= 1.230176139149729\n",
            "R2 score= 0.8115291630098999\n",
            "CONFUSION MATRIX\n",
            "[[ 7  3 15  2 14  2  1  4  6  0]\n",
            " [ 5  5 13  1  8  4  7  5  5  0]\n",
            " [11  3 11  0  5  2  4  1  3  1]\n",
            " [10  5 11  1  4  1  4  4  4  2]\n",
            " [ 6  2 10  2  9  4  5  2  3  0]\n",
            " [ 9  3  8  2  4  3  6  5  6  0]\n",
            " [ 7  5  5  2  6  3  3  3  5  1]\n",
            " [ 8  0  5  2  6  4  5  1  5  1]\n",
            " [11  1  8  5  4  1  1  6  4  1]\n",
            " [ 5  6  8  4 13  1  1  4  5  1]]\n"
          ]
        },
        {
          "output_type": "stream",
          "name": "stderr",
          "text": [
            "/usr/local/lib/python3.7/dist-packages/sklearn/linear_model/_logistic.py:940: ConvergenceWarning: lbfgs failed to converge (status=1):\n",
            "STOP: TOTAL NO. of ITERATIONS REACHED LIMIT.\n",
            "\n",
            "Increase the number of iterations (max_iter) or scale the data as shown in:\n",
            "    https://scikit-learn.org/stable/modules/preprocessing.html\n",
            "Please also refer to the documentation for alternative solver options:\n",
            "    https://scikit-learn.org/stable/modules/linear_model.html#logistic-regression\n",
            "  extra_warning_msg=_LOGISTIC_SOLVER_CONVERGENCE_MSG)\n"
          ]
        }
      ]
    },
    {
      "cell_type": "markdown",
      "metadata": {
        "id": "S8AzD1-MiG2D"
      },
      "source": [
        "## SGD CLASSIFIER"
      ]
    },
    {
      "cell_type": "code",
      "metadata": {
        "colab": {
          "base_uri": "https://localhost:8080/"
        },
        "id": "kx1_rT7Xf3rA",
        "outputId": "0e6a7f2a-751e-4d6d-9cc3-c80677811268"
      },
      "source": [
        "model2=SGDClassifier()\n",
        "model2.fit(X_train, Y_train)\n",
        "y_pred=model2.predict(X_test)\n",
        "MAE=mean_absolute_error(Y_test, y_pred)\n",
        "MSE=mean_squared_error(Y_test, y_pred)\n",
        "RMSE=np.sqrt(MSE)\n",
        "r2=r2_score(Y_test, y_pred)\n",
        "conmat=confusion_matrix(y_test, y_pred_sgd)\n",
        "print(\"Mean Absolute Error=\", MAE)\n",
        "print(\"Mean Squared Error=\", MSE)\n",
        "print(\"Root Mean Squared Error=\", RMSE)\n",
        "print(\"R2 score=\", r2)\n",
        "print(\"CONFUSION MATRIX\")\n",
        "print(conmat)"
      ],
      "execution_count": 16,
      "outputs": [
        {
          "output_type": "stream",
          "name": "stdout",
          "text": [
            "Mean Absolute Error= 0.28\n",
            "Mean Squared Error= 1.528888888888889\n",
            "Root Mean Squared Error= 1.2364824660660938\n",
            "R2 score= 0.8095918709997226\n",
            "CONFUSION MATRIX\n",
            "[[ 7  3 15  2 14  2  1  4  6  0]\n",
            " [ 5  5 13  1  8  4  7  5  5  0]\n",
            " [11  3 11  0  5  2  4  1  3  1]\n",
            " [10  5 11  1  4  1  4  4  4  2]\n",
            " [ 6  2 10  2  9  4  5  2  3  0]\n",
            " [ 9  3  8  2  4  3  6  5  6  0]\n",
            " [ 7  5  5  2  6  3  3  3  5  1]\n",
            " [ 8  0  5  2  6  4  5  1  5  1]\n",
            " [11  1  8  5  4  1  1  6  4  1]\n",
            " [ 5  6  8  4 13  1  1  4  5  1]]\n"
          ]
        }
      ]
    },
    {
      "cell_type": "code",
      "metadata": {
        "id": "0Rhq24oxgRiv"
      },
      "source": [
        ""
      ],
      "execution_count": null,
      "outputs": []
    }
  ]
}