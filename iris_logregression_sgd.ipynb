{
  "nbformat": 4,
  "nbformat_minor": 0,
  "metadata": {
    "colab": {
      "name": "iris-logregression-sgd.ipynb",
      "provenance": [],
      "authorship_tag": "ABX9TyMwoPnZYvzv6ZYsFc2y7Z53",
      "include_colab_link": true
    },
    "kernelspec": {
      "name": "python3",
      "display_name": "Python 3"
    },
    "language_info": {
      "name": "python"
    }
  },
  "cells": [
    {
      "cell_type": "markdown",
      "metadata": {
        "id": "view-in-github",
        "colab_type": "text"
      },
      "source": [
        "<a href=\"https://colab.research.google.com/github/elakiya04/machine-learning-basics/blob/main/iris_logregression_sgd.ipynb\" target=\"_parent\"><img src=\"https://colab.research.google.com/assets/colab-badge.svg\" alt=\"Open In Colab\"/></a>"
      ]
    },
    {
      "cell_type": "markdown",
      "metadata": {
        "id": "yKwNElBTVKJc"
      },
      "source": [
        "# IRIS DATASET LOGISTIC REGRESSION & SGD"
      ]
    },
    {
      "cell_type": "code",
      "metadata": {
        "id": "-Rz9hA2MSd1n"
      },
      "source": [
        "import numpy as np\n",
        "import pandas as pd\n",
        "from sklearn.datasets import load_iris\n",
        "from sklearn.model_selection import train_test_split\n",
        "from sklearn.linear_model import SGDClassifier\n",
        "from sklearn.linear_model import LogisticRegression\n",
        "from sklearn.metrics import mean_squared_error, mean_absolute_error, r2_score"
      ],
      "execution_count": null,
      "outputs": []
    },
    {
      "cell_type": "markdown",
      "metadata": {
        "id": "wfbmHWcbVXfB"
      },
      "source": [
        "## TEST-TRAIN-SPLIT"
      ]
    },
    {
      "cell_type": "code",
      "metadata": {
        "id": "UoK86Od_TPnU"
      },
      "source": [
        "iris=load_iris()\n",
        "x=iris.data\n",
        "y=iris.target\n",
        "X_train, X_test, Y_train, Y_test = train_test_split(x, y, test_size = 0.25, random_state = 0)"
      ],
      "execution_count": null,
      "outputs": []
    },
    {
      "cell_type": "code",
      "metadata": {
        "colab": {
          "base_uri": "https://localhost:8080/",
          "height": 203
        },
        "id": "VtxgGeW0TngU",
        "outputId": "a2a8d06c-fd92-47e1-f3a2-0c9d750c1ccb"
      },
      "source": [
        "df = pd.DataFrame(X_train, columns = iris.feature_names)\n",
        "df.head()  "
      ],
      "execution_count": null,
      "outputs": [
        {
          "output_type": "execute_result",
          "data": {
            "text/html": [
              "<div>\n",
              "<style scoped>\n",
              "    .dataframe tbody tr th:only-of-type {\n",
              "        vertical-align: middle;\n",
              "    }\n",
              "\n",
              "    .dataframe tbody tr th {\n",
              "        vertical-align: top;\n",
              "    }\n",
              "\n",
              "    .dataframe thead th {\n",
              "        text-align: right;\n",
              "    }\n",
              "</style>\n",
              "<table border=\"1\" class=\"dataframe\">\n",
              "  <thead>\n",
              "    <tr style=\"text-align: right;\">\n",
              "      <th></th>\n",
              "      <th>sepal length (cm)</th>\n",
              "      <th>sepal width (cm)</th>\n",
              "      <th>petal length (cm)</th>\n",
              "      <th>petal width (cm)</th>\n",
              "    </tr>\n",
              "  </thead>\n",
              "  <tbody>\n",
              "    <tr>\n",
              "      <th>0</th>\n",
              "      <td>5.9</td>\n",
              "      <td>3.0</td>\n",
              "      <td>4.2</td>\n",
              "      <td>1.5</td>\n",
              "    </tr>\n",
              "    <tr>\n",
              "      <th>1</th>\n",
              "      <td>5.8</td>\n",
              "      <td>2.6</td>\n",
              "      <td>4.0</td>\n",
              "      <td>1.2</td>\n",
              "    </tr>\n",
              "    <tr>\n",
              "      <th>2</th>\n",
              "      <td>6.8</td>\n",
              "      <td>3.0</td>\n",
              "      <td>5.5</td>\n",
              "      <td>2.1</td>\n",
              "    </tr>\n",
              "    <tr>\n",
              "      <th>3</th>\n",
              "      <td>4.7</td>\n",
              "      <td>3.2</td>\n",
              "      <td>1.3</td>\n",
              "      <td>0.2</td>\n",
              "    </tr>\n",
              "    <tr>\n",
              "      <th>4</th>\n",
              "      <td>6.9</td>\n",
              "      <td>3.1</td>\n",
              "      <td>5.1</td>\n",
              "      <td>2.3</td>\n",
              "    </tr>\n",
              "  </tbody>\n",
              "</table>\n",
              "</div>"
            ],
            "text/plain": [
              "   sepal length (cm)  sepal width (cm)  petal length (cm)  petal width (cm)\n",
              "0                5.9               3.0                4.2               1.5\n",
              "1                5.8               2.6                4.0               1.2\n",
              "2                6.8               3.0                5.5               2.1\n",
              "3                4.7               3.2                1.3               0.2\n",
              "4                6.9               3.1                5.1               2.3"
            ]
          },
          "metadata": {},
          "execution_count": 5
        }
      ]
    },
    {
      "cell_type": "markdown",
      "metadata": {
        "id": "VgwTQK6pVchh"
      },
      "source": [
        "## LOGISTIC REGRESSION"
      ]
    },
    {
      "cell_type": "code",
      "metadata": {
        "colab": {
          "base_uri": "https://localhost:8080/"
        },
        "id": "1IzJTYX9T3OY",
        "outputId": "6a3d6a87-458c-4360-a54c-113ce8fd1f45"
      },
      "source": [
        "model1=LogisticRegression()\n",
        "model1.fit(X_train, Y_train)\n",
        "y_pred=model1.predict(X_test)\n",
        "MAE=mean_absolute_error(Y_test, y_pred)\n",
        "MSE=mean_squared_error(Y_test, y_pred)\n",
        "RMSE=np.sqrt(MSE)\n",
        "r2=r2_score(Y_test, y_pred)\n",
        "print(\"Mean Absolute Error=\", MAE)\n",
        "print(\"Mean Squared Error=\", MSE)\n",
        "print(\"Root Mean Squared Error=\", RMSE)\n",
        "print(\"R2 score=\", r2)"
      ],
      "execution_count": null,
      "outputs": [
        {
          "output_type": "stream",
          "name": "stdout",
          "text": [
            "Mean Absolute Error= 0.02631578947368421\n",
            "Mean Squared Error= 0.02631578947368421\n",
            "Root Mean Squared Error= 0.16222142113076254\n",
            "R2 score= 0.9536585365853658\n"
          ]
        },
        {
          "output_type": "stream",
          "name": "stderr",
          "text": [
            "/usr/local/lib/python3.7/dist-packages/sklearn/linear_model/_logistic.py:940: ConvergenceWarning: lbfgs failed to converge (status=1):\n",
            "STOP: TOTAL NO. of ITERATIONS REACHED LIMIT.\n",
            "\n",
            "Increase the number of iterations (max_iter) or scale the data as shown in:\n",
            "    https://scikit-learn.org/stable/modules/preprocessing.html\n",
            "Please also refer to the documentation for alternative solver options:\n",
            "    https://scikit-learn.org/stable/modules/linear_model.html#logistic-regression\n",
            "  extra_warning_msg=_LOGISTIC_SOLVER_CONVERGENCE_MSG)\n"
          ]
        }
      ]
    },
    {
      "cell_type": "markdown",
      "metadata": {
        "id": "HnSdRgeiVh9m"
      },
      "source": [
        "## SGD"
      ]
    },
    {
      "cell_type": "code",
      "metadata": {
        "colab": {
          "base_uri": "https://localhost:8080/"
        },
        "id": "mCbbBDEaUpWS",
        "outputId": "2c4d674b-e028-485f-e952-e93263f3bf8f"
      },
      "source": [
        "model2=SGDClassifier()\n",
        "model2.fit(X_train, Y_train)\n",
        "y_pred=model2.predict(X_test)\n",
        "MAE=mean_absolute_error(Y_test, y_pred)\n",
        "MSE=mean_squared_error(Y_test, y_pred)\n",
        "RMSE=np.sqrt(MSE)\n",
        "r2=r2_score(Y_test, y_pred)\n",
        "print(\"Mean Absolute Error=\", MAE)\n",
        "print(\"Mean Squared Error=\", MSE)\n",
        "print(\"Root Mean Squared Error=\", RMSE)\n",
        "print(\"R2 score=\", r2)"
      ],
      "execution_count": null,
      "outputs": [
        {
          "output_type": "stream",
          "name": "stdout",
          "text": [
            "Mean Absolute Error= 0.10526315789473684\n",
            "Mean Squared Error= 0.10526315789473684\n",
            "Root Mean Squared Error= 0.3244428422615251\n",
            "R2 score= 0.8146341463414635\n"
          ]
        }
      ]
    },
    {
      "cell_type": "code",
      "metadata": {
        "id": "RLEev-avWgpy"
      },
      "source": [
        ""
      ],
      "execution_count": null,
      "outputs": []
    }
  ]
}