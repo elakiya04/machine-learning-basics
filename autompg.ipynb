{
  "nbformat": 4,
  "nbformat_minor": 0,
  "metadata": {
    "colab": {
      "name": "autompg.ipynb",
      "provenance": [],
      "authorship_tag": "ABX9TyP0ozFvZMUsUxeBZ0cxHGrn"
    },
    "kernelspec": {
      "display_name": "Python 3",
      "name": "python3"
    },
    "language_info": {
      "name": "python"
    }
  },
  "cells": [
    {
      "cell_type": "markdown",
      "metadata": {
        "id": "cXl5vkaqhg3Z"
      },
      "source": [
        "# AUTOMPG LINEAR REGRESSION"
      ]
    },
    {
      "cell_type": "code",
      "metadata": {
        "id": "IiD4IXBmjnCu"
      },
      "source": [
        "#importing the libraries\n",
        "import numpy as np\n",
        "import pandas as pd\n",
        "from sklearn.model_selection import train_test_split\n",
        "from sklearn.linear_model import LinearRegression\n",
        "from sklearn.metrics import mean_squared_error, mean_absolute_error"
      ],
      "execution_count": null,
      "outputs": []
    },
    {
      "cell_type": "markdown",
      "metadata": {
        "id": "36eQLRDLhuSl"
      },
      "source": [
        "## 1. Convert the data from csv file into dataframe"
      ]
    },
    {
      "cell_type": "code",
      "metadata": {
        "colab": {
          "base_uri": "https://localhost:8080/",
          "height": 203
        },
        "id": "-CJe5FjQkv84",
        "outputId": "242a2c75-0872-4134-a56e-e5576c47db00"
      },
      "source": [
        "data=pd.read_csv(\"/content/auto-mpg.csv\")\n",
        "data.head()"
      ],
      "execution_count": null,
      "outputs": [
        {
          "output_type": "execute_result",
          "data": {
            "text/html": [
              "<div>\n",
              "<style scoped>\n",
              "    .dataframe tbody tr th:only-of-type {\n",
              "        vertical-align: middle;\n",
              "    }\n",
              "\n",
              "    .dataframe tbody tr th {\n",
              "        vertical-align: top;\n",
              "    }\n",
              "\n",
              "    .dataframe thead th {\n",
              "        text-align: right;\n",
              "    }\n",
              "</style>\n",
              "<table border=\"1\" class=\"dataframe\">\n",
              "  <thead>\n",
              "    <tr style=\"text-align: right;\">\n",
              "      <th></th>\n",
              "      <th>mpg</th>\n",
              "      <th>cylinders</th>\n",
              "      <th>displacement</th>\n",
              "      <th>horsepower</th>\n",
              "      <th>weight</th>\n",
              "      <th>acceleration</th>\n",
              "      <th>model year</th>\n",
              "      <th>origin</th>\n",
              "      <th>car name</th>\n",
              "    </tr>\n",
              "  </thead>\n",
              "  <tbody>\n",
              "    <tr>\n",
              "      <th>0</th>\n",
              "      <td>18.0</td>\n",
              "      <td>8</td>\n",
              "      <td>307.0</td>\n",
              "      <td>130</td>\n",
              "      <td>3504</td>\n",
              "      <td>12.0</td>\n",
              "      <td>70</td>\n",
              "      <td>1</td>\n",
              "      <td>chevrolet chevelle malibu</td>\n",
              "    </tr>\n",
              "    <tr>\n",
              "      <th>1</th>\n",
              "      <td>15.0</td>\n",
              "      <td>8</td>\n",
              "      <td>350.0</td>\n",
              "      <td>165</td>\n",
              "      <td>3693</td>\n",
              "      <td>11.5</td>\n",
              "      <td>70</td>\n",
              "      <td>1</td>\n",
              "      <td>buick skylark 320</td>\n",
              "    </tr>\n",
              "    <tr>\n",
              "      <th>2</th>\n",
              "      <td>18.0</td>\n",
              "      <td>8</td>\n",
              "      <td>318.0</td>\n",
              "      <td>150</td>\n",
              "      <td>3436</td>\n",
              "      <td>11.0</td>\n",
              "      <td>70</td>\n",
              "      <td>1</td>\n",
              "      <td>plymouth satellite</td>\n",
              "    </tr>\n",
              "    <tr>\n",
              "      <th>3</th>\n",
              "      <td>16.0</td>\n",
              "      <td>8</td>\n",
              "      <td>304.0</td>\n",
              "      <td>150</td>\n",
              "      <td>3433</td>\n",
              "      <td>12.0</td>\n",
              "      <td>70</td>\n",
              "      <td>1</td>\n",
              "      <td>amc rebel sst</td>\n",
              "    </tr>\n",
              "    <tr>\n",
              "      <th>4</th>\n",
              "      <td>17.0</td>\n",
              "      <td>8</td>\n",
              "      <td>302.0</td>\n",
              "      <td>140</td>\n",
              "      <td>3449</td>\n",
              "      <td>10.5</td>\n",
              "      <td>70</td>\n",
              "      <td>1</td>\n",
              "      <td>ford torino</td>\n",
              "    </tr>\n",
              "  </tbody>\n",
              "</table>\n",
              "</div>"
            ],
            "text/plain": [
              "    mpg  cylinders  displacement  ... model year  origin                   car name\n",
              "0  18.0          8         307.0  ...         70       1  chevrolet chevelle malibu\n",
              "1  15.0          8         350.0  ...         70       1          buick skylark 320\n",
              "2  18.0          8         318.0  ...         70       1         plymouth satellite\n",
              "3  16.0          8         304.0  ...         70       1              amc rebel sst\n",
              "4  17.0          8         302.0  ...         70       1                ford torino\n",
              "\n",
              "[5 rows x 9 columns]"
            ]
          },
          "metadata": {},
          "execution_count": 63
        }
      ]
    },
    {
      "cell_type": "markdown",
      "metadata": {
        "id": "gSBcQ2g3iVmc"
      },
      "source": [
        "## 2. Display shape\n"
      ]
    },
    {
      "cell_type": "code",
      "metadata": {
        "colab": {
          "base_uri": "https://localhost:8080/"
        },
        "id": "l9_JTpnbXqk4",
        "outputId": "726155f0-c645-421d-86be-435af3dadbc7"
      },
      "source": [
        "data.shape"
      ],
      "execution_count": null,
      "outputs": [
        {
          "output_type": "execute_result",
          "data": {
            "text/plain": [
              "(398, 9)"
            ]
          },
          "metadata": {},
          "execution_count": 64
        }
      ]
    },
    {
      "cell_type": "code",
      "metadata": {
        "colab": {
          "base_uri": "https://localhost:8080/"
        },
        "id": "1LgSf0clm3Jh",
        "outputId": "9f6cf73f-0fa2-4337-94f7-ba423047f998"
      },
      "source": [
        "data.info()"
      ],
      "execution_count": null,
      "outputs": [
        {
          "output_type": "stream",
          "name": "stdout",
          "text": [
            "<class 'pandas.core.frame.DataFrame'>\n",
            "RangeIndex: 398 entries, 0 to 397\n",
            "Data columns (total 9 columns):\n",
            " #   Column        Non-Null Count  Dtype  \n",
            "---  ------        --------------  -----  \n",
            " 0   mpg           398 non-null    float64\n",
            " 1   cylinders     398 non-null    int64  \n",
            " 2   displacement  398 non-null    float64\n",
            " 3   horsepower    398 non-null    object \n",
            " 4   weight        398 non-null    int64  \n",
            " 5   acceleration  398 non-null    float64\n",
            " 6   model year    398 non-null    int64  \n",
            " 7   origin        398 non-null    int64  \n",
            " 8   car name      398 non-null    object \n",
            "dtypes: float64(3), int64(4), object(2)\n",
            "memory usage: 28.1+ KB\n"
          ]
        }
      ]
    },
    {
      "cell_type": "markdown",
      "metadata": {
        "id": "6R4KLSshiuMm"
      },
      "source": [
        "## 3. Display the car names and their count"
      ]
    },
    {
      "cell_type": "code",
      "metadata": {
        "colab": {
          "base_uri": "https://localhost:8080/"
        },
        "id": "gJo4sZ-toQBG",
        "outputId": "55f04c43-d430-48c0-c43c-46160e7cd634"
      },
      "source": [
        "data['car name'].value_counts()"
      ],
      "execution_count": null,
      "outputs": [
        {
          "output_type": "execute_result",
          "data": {
            "text/plain": [
              "ford pinto                    6\n",
              "amc matador                   5\n",
              "ford maverick                 5\n",
              "toyota corolla                5\n",
              "amc hornet                    4\n",
              "                             ..\n",
              "amc hornet sportabout (sw)    1\n",
              "mercury marquis               1\n",
              "mazda glc deluxe              1\n",
              "vw rabbit c (diesel)          1\n",
              "mercury monarch ghia          1\n",
              "Name: car name, Length: 305, dtype: int64"
            ]
          },
          "metadata": {},
          "execution_count": 66
        }
      ]
    },
    {
      "cell_type": "markdown",
      "metadata": {
        "id": "sWbkP1VGi2FB"
      },
      "source": [
        "## 4. Identify the missing value attributes"
      ]
    },
    {
      "cell_type": "code",
      "metadata": {
        "colab": {
          "base_uri": "https://localhost:8080/"
        },
        "id": "UkbO00Keo_9f",
        "outputId": "2ef72969-fb9e-436b-eb86-c1cc10d4216d"
      },
      "source": [
        "data['horsepower'].unique()"
      ],
      "execution_count": null,
      "outputs": [
        {
          "output_type": "execute_result",
          "data": {
            "text/plain": [
              "array(['130', '165', '150', '140', '198', '220', '215', '225', '190',\n",
              "       '170', '160', '95', '97', '85', '88', '46', '87', '90', '113',\n",
              "       '200', '210', '193', '?', '100', '105', '175', '153', '180', '110',\n",
              "       '72', '86', '70', '76', '65', '69', '60', '80', '54', '208', '155',\n",
              "       '112', '92', '145', '137', '158', '167', '94', '107', '230', '49',\n",
              "       '75', '91', '122', '67', '83', '78', '52', '61', '93', '148',\n",
              "       '129', '96', '71', '98', '115', '53', '81', '79', '120', '152',\n",
              "       '102', '108', '68', '58', '149', '89', '63', '48', '66', '139',\n",
              "       '103', '125', '133', '138', '135', '142', '77', '62', '132', '84',\n",
              "       '64', '74', '116', '82'], dtype=object)"
            ]
          },
          "metadata": {},
          "execution_count": 67
        }
      ]
    },
    {
      "cell_type": "code",
      "metadata": {
        "colab": {
          "base_uri": "https://localhost:8080/"
        },
        "id": "LO5_KHqwpGLV",
        "outputId": "a93c0839-d59e-473c-e4e6-87a209c4b866"
      },
      "source": [
        "data['horsepower'] = data['horsepower'].replace('?', np.NaN).astype(np.float)\n",
        "data['horsepower'].dtype\n",
        "data['horsepower'].isnull().sum()"
      ],
      "execution_count": null,
      "outputs": [
        {
          "output_type": "execute_result",
          "data": {
            "text/plain": [
              "6"
            ]
          },
          "metadata": {},
          "execution_count": 68
        }
      ]
    },
    {
      "cell_type": "code",
      "metadata": {
        "id": "eSTiJ7vPrjJl",
        "colab": {
          "base_uri": "https://localhost:8080/"
        },
        "outputId": "7543c8a2-319b-4077-8c02-8e4ec5e9f730"
      },
      "source": [
        "data['horsepower'].fillna(data['horsepower'].mean(), inplace = True)\n",
        "data['horsepower'].unique()"
      ],
      "execution_count": null,
      "outputs": [
        {
          "output_type": "execute_result",
          "data": {
            "text/plain": [
              "array([130.        , 165.        , 150.        , 140.        ,\n",
              "       198.        , 220.        , 215.        , 225.        ,\n",
              "       190.        , 170.        , 160.        ,  95.        ,\n",
              "        97.        ,  85.        ,  88.        ,  46.        ,\n",
              "        87.        ,  90.        , 113.        , 200.        ,\n",
              "       210.        , 193.        , 104.46938776, 100.        ,\n",
              "       105.        , 175.        , 153.        , 180.        ,\n",
              "       110.        ,  72.        ,  86.        ,  70.        ,\n",
              "        76.        ,  65.        ,  69.        ,  60.        ,\n",
              "        80.        ,  54.        , 208.        , 155.        ,\n",
              "       112.        ,  92.        , 145.        , 137.        ,\n",
              "       158.        , 167.        ,  94.        , 107.        ,\n",
              "       230.        ,  49.        ,  75.        ,  91.        ,\n",
              "       122.        ,  67.        ,  83.        ,  78.        ,\n",
              "        52.        ,  61.        ,  93.        , 148.        ,\n",
              "       129.        ,  96.        ,  71.        ,  98.        ,\n",
              "       115.        ,  53.        ,  81.        ,  79.        ,\n",
              "       120.        , 152.        , 102.        , 108.        ,\n",
              "        68.        ,  58.        , 149.        ,  89.        ,\n",
              "        63.        ,  48.        ,  66.        , 139.        ,\n",
              "       103.        , 125.        , 133.        , 138.        ,\n",
              "       135.        , 142.        ,  77.        ,  62.        ,\n",
              "       132.        ,  84.        ,  64.        ,  74.        ,\n",
              "       116.        ,  82.        ])"
            ]
          },
          "metadata": {},
          "execution_count": 69
        }
      ]
    },
    {
      "cell_type": "code",
      "metadata": {
        "colab": {
          "base_uri": "https://localhost:8080/"
        },
        "id": "seP-XXJUZCdK",
        "outputId": "2564ae77-7c02-4a1c-d724-cd0b6e5dea2a"
      },
      "source": [
        "data.isna().sum()"
      ],
      "execution_count": null,
      "outputs": [
        {
          "output_type": "execute_result",
          "data": {
            "text/plain": [
              "mpg             0\n",
              "cylinders       0\n",
              "displacement    0\n",
              "horsepower      0\n",
              "weight          0\n",
              "acceleration    0\n",
              "model year      0\n",
              "origin          0\n",
              "car name        0\n",
              "dtype: int64"
            ]
          },
          "metadata": {},
          "execution_count": 70
        }
      ]
    },
    {
      "cell_type": "code",
      "metadata": {
        "id": "WTAszvPcrpOE"
      },
      "source": [
        "from sklearn.preprocessing import LabelEncoder\n",
        "label=LabelEncoder()\n",
        "data['car name']=label.fit_transform(data[\"car name\"])"
      ],
      "execution_count": null,
      "outputs": []
    },
    {
      "cell_type": "markdown",
      "metadata": {
        "id": "ibDhyZXii8ME"
      },
      "source": [
        "## 5. Split the dataset as 80:20 for training and testing"
      ]
    },
    {
      "cell_type": "code",
      "metadata": {
        "id": "awI8jt9BY9a4"
      },
      "source": [
        "y=data.pop(\"mpg\")\n",
        "x=data"
      ],
      "execution_count": null,
      "outputs": []
    },
    {
      "cell_type": "code",
      "metadata": {
        "id": "ilH3HMz2sBs8"
      },
      "source": [
        "x_train, x_test, y_train, y_test=train_test_split(x, y, test_size = 0.2)"
      ],
      "execution_count": null,
      "outputs": []
    },
    {
      "cell_type": "markdown",
      "metadata": {
        "id": "yBwj93HyjB2h"
      },
      "source": [
        "## 6. Build a linear regression model, predict the output for test set and calculate the error."
      ]
    },
    {
      "cell_type": "code",
      "metadata": {
        "id": "BhzckSivsZOX"
      },
      "source": [
        "model=LinearRegression()"
      ],
      "execution_count": null,
      "outputs": []
    },
    {
      "cell_type": "code",
      "metadata": {
        "colab": {
          "base_uri": "https://localhost:8080/"
        },
        "id": "-9El62rjscsC",
        "outputId": "480a0a42-154a-43fb-b797-67a71b0e20ae"
      },
      "source": [
        "model.fit(x_train, y_train)"
      ],
      "execution_count": null,
      "outputs": [
        {
          "output_type": "execute_result",
          "data": {
            "text/plain": [
              "LinearRegression(copy_X=True, fit_intercept=True, n_jobs=None, normalize=False)"
            ]
          },
          "metadata": {},
          "execution_count": 75
        }
      ]
    },
    {
      "cell_type": "code",
      "metadata": {
        "colab": {
          "base_uri": "https://localhost:8080/"
        },
        "id": "Y12uYzerWGkP",
        "outputId": "6be7a7b6-d663-4a90-c3db-0e1388c1bdca"
      },
      "source": [
        "y_pred=model.predict(x_test)\n",
        "rmse=mean_squared_error(y_pred,y_test)\n",
        "mae=mean_absolute_error(y_test, y_pred)\n",
        "print(\"Mean Absolute Error=\", mae)\n",
        "print(\"Root Mean Squared Error=\", rmse)"
      ],
      "execution_count": null,
      "outputs": [
        {
          "output_type": "stream",
          "name": "stdout",
          "text": [
            "Mean Absolute Error= 2.4825338841082907\n",
            "Root Mean Squared Error= 10.130646920348129\n"
          ]
        }
      ]
    }
  ]
}