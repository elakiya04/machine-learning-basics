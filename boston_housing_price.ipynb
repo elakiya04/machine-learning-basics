{
  "nbformat": 4,
  "nbformat_minor": 0,
  "metadata": {
    "colab": {
      "name": "boston-housing-price.ipynb",
      "provenance": [],
      "authorship_tag": "ABX9TyNtJLeIEaRaVJTKWWELtiFc",
      "include_colab_link": true
    },
    "kernelspec": {
      "name": "python3",
      "display_name": "Python 3"
    },
    "language_info": {
      "name": "python"
    }
  },
  "cells": [
    {
      "cell_type": "markdown",
      "metadata": {
        "id": "view-in-github",
        "colab_type": "text"
      },
      "source": [
        "<a href=\"https://colab.research.google.com/github/elakiya04/machine-learning-basics/blob/main/boston_housing_price.ipynb\" target=\"_parent\"><img src=\"https://colab.research.google.com/assets/colab-badge.svg\" alt=\"Open In Colab\"/></a>"
      ]
    },
    {
      "cell_type": "markdown",
      "metadata": {
        "id": "Hc1Gd3eFrz6x"
      },
      "source": [
        "# BOSTON HOUSING PRICE"
      ]
    },
    {
      "cell_type": "code",
      "metadata": {
        "id": "HhLRlHnpry22"
      },
      "source": [
        "from sklearn.datasets import load_boston \n",
        "from sklearn import preprocessing\n",
        "import pandas as pd \n",
        "import numpy as np\n",
        "import matplotlib.pyplot as plt\n",
        "from sklearn.linear_model import SGDRegressor\n",
        "from sklearn.metrics import mean_squared_error \n",
        "from numpy import random \n",
        "from sklearn.model_selection import train_test_split"
      ],
      "execution_count": null,
      "outputs": []
    },
    {
      "cell_type": "markdown",
      "metadata": {
        "id": "kt6Jhm3Awrq9"
      },
      "source": [
        "## load dataset and performing test-train split"
      ]
    },
    {
      "cell_type": "code",
      "metadata": {
        "colab": {
          "base_uri": "https://localhost:8080/",
          "height": 203
        },
        "id": "jhNK4rTpsuGg",
        "outputId": "fa2d2779-aa5f-4031-a819-16bd5a2493c4"
      },
      "source": [
        "boston = load_boston()          \n",
        "X = boston.data                          \n",
        "Y = boston.target                        \n",
        "\n",
        "X_train, X_test, Y_train, Y_test = train_test_split(X, Y, test_size = 0.25, random_state = 0)\n",
        "\n",
        "df = pd.DataFrame(X_train, columns = boston.feature_names)\n",
        "df.head()         "
      ],
      "execution_count": null,
      "outputs": [
        {
          "output_type": "execute_result",
          "data": {
            "text/html": [
              "<div>\n",
              "<style scoped>\n",
              "    .dataframe tbody tr th:only-of-type {\n",
              "        vertical-align: middle;\n",
              "    }\n",
              "\n",
              "    .dataframe tbody tr th {\n",
              "        vertical-align: top;\n",
              "    }\n",
              "\n",
              "    .dataframe thead th {\n",
              "        text-align: right;\n",
              "    }\n",
              "</style>\n",
              "<table border=\"1\" class=\"dataframe\">\n",
              "  <thead>\n",
              "    <tr style=\"text-align: right;\">\n",
              "      <th></th>\n",
              "      <th>CRIM</th>\n",
              "      <th>ZN</th>\n",
              "      <th>INDUS</th>\n",
              "      <th>CHAS</th>\n",
              "      <th>NOX</th>\n",
              "      <th>RM</th>\n",
              "      <th>AGE</th>\n",
              "      <th>DIS</th>\n",
              "      <th>RAD</th>\n",
              "      <th>TAX</th>\n",
              "      <th>PTRATIO</th>\n",
              "      <th>B</th>\n",
              "      <th>LSTAT</th>\n",
              "    </tr>\n",
              "  </thead>\n",
              "  <tbody>\n",
              "    <tr>\n",
              "      <th>0</th>\n",
              "      <td>0.19133</td>\n",
              "      <td>22.0</td>\n",
              "      <td>5.86</td>\n",
              "      <td>0.0</td>\n",
              "      <td>0.431</td>\n",
              "      <td>5.605</td>\n",
              "      <td>70.2</td>\n",
              "      <td>7.9549</td>\n",
              "      <td>7.0</td>\n",
              "      <td>330.0</td>\n",
              "      <td>19.1</td>\n",
              "      <td>389.13</td>\n",
              "      <td>18.46</td>\n",
              "    </tr>\n",
              "    <tr>\n",
              "      <th>1</th>\n",
              "      <td>0.10328</td>\n",
              "      <td>25.0</td>\n",
              "      <td>5.13</td>\n",
              "      <td>0.0</td>\n",
              "      <td>0.453</td>\n",
              "      <td>5.927</td>\n",
              "      <td>47.2</td>\n",
              "      <td>6.9320</td>\n",
              "      <td>8.0</td>\n",
              "      <td>284.0</td>\n",
              "      <td>19.7</td>\n",
              "      <td>396.90</td>\n",
              "      <td>9.22</td>\n",
              "    </tr>\n",
              "    <tr>\n",
              "      <th>2</th>\n",
              "      <td>0.10469</td>\n",
              "      <td>40.0</td>\n",
              "      <td>6.41</td>\n",
              "      <td>1.0</td>\n",
              "      <td>0.447</td>\n",
              "      <td>7.267</td>\n",
              "      <td>49.0</td>\n",
              "      <td>4.7872</td>\n",
              "      <td>4.0</td>\n",
              "      <td>254.0</td>\n",
              "      <td>17.6</td>\n",
              "      <td>389.25</td>\n",
              "      <td>6.05</td>\n",
              "    </tr>\n",
              "    <tr>\n",
              "      <th>3</th>\n",
              "      <td>8.71675</td>\n",
              "      <td>0.0</td>\n",
              "      <td>18.10</td>\n",
              "      <td>0.0</td>\n",
              "      <td>0.693</td>\n",
              "      <td>6.471</td>\n",
              "      <td>98.8</td>\n",
              "      <td>1.7257</td>\n",
              "      <td>24.0</td>\n",
              "      <td>666.0</td>\n",
              "      <td>20.2</td>\n",
              "      <td>391.98</td>\n",
              "      <td>17.12</td>\n",
              "    </tr>\n",
              "    <tr>\n",
              "      <th>4</th>\n",
              "      <td>10.83420</td>\n",
              "      <td>0.0</td>\n",
              "      <td>18.10</td>\n",
              "      <td>0.0</td>\n",
              "      <td>0.679</td>\n",
              "      <td>6.782</td>\n",
              "      <td>90.8</td>\n",
              "      <td>1.8195</td>\n",
              "      <td>24.0</td>\n",
              "      <td>666.0</td>\n",
              "      <td>20.2</td>\n",
              "      <td>21.57</td>\n",
              "      <td>25.79</td>\n",
              "    </tr>\n",
              "  </tbody>\n",
              "</table>\n",
              "</div>"
            ],
            "text/plain": [
              "       CRIM    ZN  INDUS  CHAS    NOX  ...   RAD    TAX  PTRATIO       B  LSTAT\n",
              "0   0.19133  22.0   5.86   0.0  0.431  ...   7.0  330.0     19.1  389.13  18.46\n",
              "1   0.10328  25.0   5.13   0.0  0.453  ...   8.0  284.0     19.7  396.90   9.22\n",
              "2   0.10469  40.0   6.41   1.0  0.447  ...   4.0  254.0     17.6  389.25   6.05\n",
              "3   8.71675   0.0  18.10   0.0  0.693  ...  24.0  666.0     20.2  391.98  17.12\n",
              "4  10.83420   0.0  18.10   0.0  0.679  ...  24.0  666.0     20.2   21.57  25.79\n",
              "\n",
              "[5 rows x 13 columns]"
            ]
          },
          "metadata": {},
          "execution_count": 17
        }
      ]
    },
    {
      "cell_type": "markdown",
      "metadata": {
        "id": "u28B0MDLwVI4"
      },
      "source": [
        "## Linear Regression"
      ]
    },
    {
      "cell_type": "code",
      "metadata": {
        "colab": {
          "base_uri": "https://localhost:8080/"
        },
        "id": "_R-Ihv6pstEg",
        "outputId": "1af3359f-4d38-4900-d5a9-0df63a373410"
      },
      "source": [
        "from sklearn.linear_model import LinearRegression\n",
        "model=LinearRegression()\n",
        "model.fit(X_train, Y_train)\n",
        "y_pred= model.predict(X_test)\n",
        "from sklearn.metrics import mean_absolute_error, mean_squared_error, r2_score\n",
        "MAE=mean_absolute_error(Y_test,y_pred) \n",
        "MSE=mean_squared_error(Y_test, y_pred)\n",
        "RMSE=np.sqrt(MSE)\n",
        "r2=r2_score(Y_test, y_pred)\n",
        "print(\"Mean Absolute Error=\", MAE)\n",
        "print(\"Mean Squared Error=\", MSE)\n",
        "print(\"Root Mean Squared Error=\", RMSE)\n",
        "print(\"R2 score=\", r2)"
      ],
      "execution_count": null,
      "outputs": [
        {
          "output_type": "stream",
          "name": "stdout",
          "text": [
            "Mean Absolute Error= 3.6683301481357256\n",
            "Mean Squared Error= 29.782245092302524\n",
            "Root Mean Squared Error= 5.457311159564069\n",
            "R2 score= 0.635463843320211\n"
          ]
        }
      ]
    },
    {
      "cell_type": "code",
      "metadata": {
        "id": "w3NjSnUfvt3h"
      },
      "source": [
        ""
      ],
      "execution_count": null,
      "outputs": []
    }
  ]
}